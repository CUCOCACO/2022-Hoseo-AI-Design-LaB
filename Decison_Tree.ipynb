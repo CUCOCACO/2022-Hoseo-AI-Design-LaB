{
 "cells": [
  {
   "cell_type": "code",
   "execution_count": 1,
   "metadata": {},
   "outputs": [],
   "source": [
    "\n",
    "import pandas as pd\n",
    "import numpy as np\n",
    "import os\n",
    "from sklearn.model_selection import train_test_split\n",
    "from pathlib import Path\n",
    "from sklearn.metrics import accuracy_score\n",
    "from sklearn.metrics import classification_report\n",
    "import re\n",
    "import base64\n",
    "from urllib import parse"
   ]
  },
  {
   "cell_type": "code",
   "execution_count": 2,
   "metadata": {},
   "outputs": [],
   "source": [
    "# # # Data Load\n",
    "# df_normal = pd.read_csv('Dataset/Benign_list_big_final.csv')\n",
    "# df_deface = pd.read_csv('Dataset/DefacementSitesURLFiltered.csv',encoding='latin-1')\n",
    "# df_malware = pd.read_csv('Dataset/Malware_dataset.csv')\n",
    "# df_phishing = pd.read_csv('Dataset/phishing_dataset.csv')\n",
    "# df_spam = pd.read_csv('Dataset/spam_dataset.csv')"
   ]
  },
  {
   "cell_type": "code",
   "execution_count": 3,
   "metadata": {},
   "outputs": [],
   "source": [
    "# df_normal.rename(columns={'Begin URL':'URL'},inplace=True)\n",
    "# df_deface.rename(columns={'Defacement URL':'URL'},inplace=True)\n",
    "# df_malware.rename(columns={'Malware URL':'URL'},inplace=True)\n",
    "# df_phishing.rename(columns={'Phishing URL':'URL'},inplace=True)\n",
    "# df_spam.rename(columns={'Spam URL':'URL'},inplace=True)\n"
   ]
  },
  {
   "cell_type": "markdown",
   "metadata": {},
   "source": [
    "# Normal, Attack(Malware/Phishing/Spam/Defacement) Labeling"
   ]
  },
  {
   "cell_type": "code",
   "execution_count": 4,
   "metadata": {},
   "outputs": [],
   "source": [
    "# # Data Label List \n",
    "# normal_label_list = []\n",
    "# malware_label_list = []\n",
    "# deface_label_list = []\n",
    "# spam_label_list = []\n",
    "# phishing_label_list = []\n",
    "# for i in range(len(df_normal)):\n",
    "#     normal_label_list.append('Normal')\n",
    "# for j in range(len(df_malware)):\n",
    "#     malware_label_list.append('Malware')\n",
    "# for n in range(len(df_deface)):\n",
    "#     deface_label_list.append('Defacement')\n",
    "# for m in range(len(df_phishing)):\n",
    "#     phishing_label_list.append('Phishing')\n",
    "# for k in range(len(df_spam)):\n",
    "#     spam_label_list.append('Spam')\n",
    " "
   ]
  },
  {
   "cell_type": "code",
   "execution_count": 5,
   "metadata": {},
   "outputs": [],
   "source": [
    "# # Labeling\n",
    "# df_normal['Label'] = normal_label_list\n",
    "# df_deface['Label'] = deface_label_list\n",
    "# df_malware['Label'] = malware_label_list\n",
    "# df_spam['Label'] = spam_label_list\n",
    "# df_phishing['Label'] = phishing_label_list"
   ]
  },
  {
   "cell_type": "code",
   "execution_count": 6,
   "metadata": {},
   "outputs": [],
   "source": [
    "# # 5개 data concat\n",
    "# df_total = pd.concat([df_normal, df_deface, df_malware, df_phishing, df_spam],axis=0)\n",
    "# df_total"
   ]
  },
  {
   "cell_type": "code",
   "execution_count": 7,
   "metadata": {},
   "outputs": [],
   "source": [
    "# df_total.to_csv('total_dataset.csv', index=None)"
   ]
  },
  {
   "cell_type": "code",
   "execution_count": 47,
   "metadata": {},
   "outputs": [],
   "source": [
    "import pandas as pd\n",
    "\n",
    "df_total = pd.read_csv('total_dataset.csv')"
   ]
  },
  {
   "cell_type": "code",
   "execution_count": 45,
   "metadata": {},
   "outputs": [],
   "source": [
    "y = df_total.iloc[:,-1]\n",
    "X = df_total.drop(columns='Label')"
   ]
  },
  {
   "cell_type": "code",
   "execution_count": 46,
   "metadata": {},
   "outputs": [
    {
     "data": {
      "text/html": [
       "<div>\n",
       "<style scoped>\n",
       "    .dataframe tbody tr th:only-of-type {\n",
       "        vertical-align: middle;\n",
       "    }\n",
       "\n",
       "    .dataframe tbody tr th {\n",
       "        vertical-align: top;\n",
       "    }\n",
       "\n",
       "    .dataframe thead th {\n",
       "        text-align: right;\n",
       "    }\n",
       "</style>\n",
       "<table border=\"1\" class=\"dataframe\">\n",
       "  <thead>\n",
       "    <tr style=\"text-align: right;\">\n",
       "      <th></th>\n",
       "      <th>URL</th>\n",
       "    </tr>\n",
       "  </thead>\n",
       "  <tbody>\n",
       "    <tr>\n",
       "      <th>0</th>\n",
       "      <td>http://1337x.to/torrent/1048648/American-Snipe...</td>\n",
       "    </tr>\n",
       "    <tr>\n",
       "      <th>1</th>\n",
       "      <td>http://1337x.to/torrent/1110018/Blackhat-2015-...</td>\n",
       "    </tr>\n",
       "    <tr>\n",
       "      <th>2</th>\n",
       "      <td>http://1337x.to/torrent/1122940/Blackhat-2015-...</td>\n",
       "    </tr>\n",
       "    <tr>\n",
       "      <th>3</th>\n",
       "      <td>http://1337x.to/torrent/1124395/Fast-and-Furio...</td>\n",
       "    </tr>\n",
       "    <tr>\n",
       "      <th>4</th>\n",
       "      <td>http://1337x.to/torrent/1145504/Avengers-Age-o...</td>\n",
       "    </tr>\n",
       "    <tr>\n",
       "      <th>...</th>\n",
       "      <td>...</td>\n",
       "    </tr>\n",
       "    <tr>\n",
       "      <th>165359</th>\n",
       "      <td>http://archive.salisburyjournal.co.uk/2001/3/7/</td>\n",
       "    </tr>\n",
       "    <tr>\n",
       "      <th>165360</th>\n",
       "      <td>http://astore.amazon.co.uk/allezvinsfrenchr/de...</td>\n",
       "    </tr>\n",
       "    <tr>\n",
       "      <th>165361</th>\n",
       "      <td>http://archive.thisischeshire.co.uk/2000/1/14/...</td>\n",
       "    </tr>\n",
       "    <tr>\n",
       "      <th>165362</th>\n",
       "      <td>http://applerugs.co.uk/rugs/product_info.php?p...</td>\n",
       "    </tr>\n",
       "    <tr>\n",
       "      <th>165363</th>\n",
       "      <td>http://allgirltogaparty.co.uk/gallery2/main.ph...</td>\n",
       "    </tr>\n",
       "  </tbody>\n",
       "</table>\n",
       "<p>165364 rows × 1 columns</p>\n",
       "</div>"
      ],
      "text/plain": [
       "                                                      URL\n",
       "0       http://1337x.to/torrent/1048648/American-Snipe...\n",
       "1       http://1337x.to/torrent/1110018/Blackhat-2015-...\n",
       "2       http://1337x.to/torrent/1122940/Blackhat-2015-...\n",
       "3       http://1337x.to/torrent/1124395/Fast-and-Furio...\n",
       "4       http://1337x.to/torrent/1145504/Avengers-Age-o...\n",
       "...                                                   ...\n",
       "165359    http://archive.salisburyjournal.co.uk/2001/3/7/\n",
       "165360  http://astore.amazon.co.uk/allezvinsfrenchr/de...\n",
       "165361  http://archive.thisischeshire.co.uk/2000/1/14/...\n",
       "165362  http://applerugs.co.uk/rugs/product_info.php?p...\n",
       "165363  http://allgirltogaparty.co.uk/gallery2/main.ph...\n",
       "\n",
       "[165364 rows x 1 columns]"
      ]
     },
     "execution_count": 46,
     "metadata": {},
     "output_type": "execute_result"
    }
   ],
   "source": [
    "X"
   ]
  },
  {
   "cell_type": "markdown",
   "metadata": {},
   "source": [
    "# URL Lexical Featuring"
   ]
  },
  {
   "cell_type": "code",
   "execution_count": 48,
   "metadata": {},
   "outputs": [],
   "source": [
    "from network_feature import http_url\n",
    "\n",
    "instance = []\n",
    "for url in df_total['URL']:\n",
    "    # print(url)\n",
    "    instance.append(http_url(url))"
   ]
  },
  {
   "cell_type": "code",
   "execution_count": 49,
   "metadata": {},
   "outputs": [],
   "source": [
    "col = ['len_url', 'num_dot', 'num_slash', 'num_ampersand', 'num_dash', 'num_space', 'num_doubleslash', 'num_token', 'len_repeat_str_url', 'Entropy_url', 'distribution_of_url_num', 'distribution_of_url_alpha', 'distribution_of_url_special', 'len_host', 'IF_ip_exist_in_host', 'IF_ip_exist_in_host', 'IF_port_in_host', 'len_repeat_str_host', 'num_subdomain', 'len_tld', 'distribution_of_host_num', 'distribution_of_host_alpha', 'distribution_of_host_special', 'len_path', 'maxstr_subdir', 'len_filename', 'num_dot_filename', 'len_query', 'maxstr_query_val', 'num_dot_query', 'distribution_of_query_num', 'distribution_of_query_alpha', 'distribution_of_query_special', 'avg_of_query_val']\n",
    " = pd.DataFrame(inzstance, columns=col)"
   ]
  },
  {
   "cell_type": "code",
   "execution_count": 50,
   "metadata": {},
   "outputs": [],
   "source": [
    "featured_df.to_csv('featured_data.csv', index=None)"
   ]
  },
  {
   "cell_type": "markdown",
   "metadata": {},
   "source": [
    "# Min-Max Scaling"
   ]
  },
  {
   "cell_type": "code",
   "execution_count": 51,
   "metadata": {},
   "outputs": [],
   "source": [
    "from sklearn.preprocessing import MinMaxScaler\n",
    "from sklearn.preprocessing import StandardScaler\n",
    "\n",
    "from sklearn.pipeline import Pipeline\n",
    "scaler = Pipeline([('scaler', StandardScaler())])\n",
    "scaled_df = scaler.fit_transform(featured_df)"
   ]
  },
  {
   "cell_type": "markdown",
   "metadata": {},
   "source": [
    "# Train/ Test Split"
   ]
  },
  {
   "cell_type": "code",
   "execution_count": 52,
   "metadata": {},
   "outputs": [],
   "source": [
    "df_total['Label'] = df_total['Label'].replace({'Normal':0, 'Defacement':1,'Phishing':2,'Malware':3,'Spam':4})\n",
    "target = df_total['Label'].tolist()"
   ]
  },
  {
   "cell_type": "code",
   "execution_count": 53,
   "metadata": {},
   "outputs": [
    {
     "data": {
      "text/plain": [
       "1    96455\n",
       "0    35378\n",
       "4    12000\n",
       "3    11566\n",
       "2     9965\n",
       "Name: Label, dtype: int64"
      ]
     },
     "execution_count": 53,
     "metadata": {},
     "output_type": "execute_result"
    }
   ],
   "source": [
    "df_total['Label'].value_counts()"
   ]
  },
  {
   "cell_type": "code",
   "execution_count": 54,
   "metadata": {},
   "outputs": [],
   "source": [
    "X_train, X_test, y_train, y_test = train_test_split(scaled_df,target, test_size=0.3, stratify=target, random_state=21)"
   ]
  },
  {
   "cell_type": "code",
   "execution_count": 55,
   "metadata": {},
   "outputs": [],
   "source": [
    "X_train_df = pd.DataFrame(X_train, columns=col)\n",
    "X_test_df = pd.DataFrame(X_test, columns=col)"
   ]
  },
  {
   "cell_type": "code",
   "execution_count": 56,
   "metadata": {},
   "outputs": [
    {
     "ename": "TypeError",
     "evalue": "mutual_info_classif() missing 1 required positional argument: 'y'",
     "output_type": "error",
     "traceback": [
      "\u001b[1;31m---------------------------------------------------------------------------\u001b[0m",
      "\u001b[1;31mTypeError\u001b[0m                                 Traceback (most recent call last)",
      "\u001b[1;32m~\\AppData\\Local\\Temp\\ipykernel_21088\\931077700.py\u001b[0m in \u001b[0;36m<module>\u001b[1;34m\u001b[0m\n\u001b[0;32m      1\u001b[0m \u001b[1;32mfrom\u001b[0m \u001b[0msklearn\u001b[0m\u001b[1;33m.\u001b[0m\u001b[0mfeature_selection\u001b[0m \u001b[1;32mimport\u001b[0m \u001b[0mmutual_info_classif\u001b[0m\u001b[1;33m\u001b[0m\u001b[1;33m\u001b[0m\u001b[0m\n\u001b[0;32m      2\u001b[0m \u001b[1;33m\u001b[0m\u001b[0m\n\u001b[1;32m----> 3\u001b[1;33m \u001b[0mmutual_info\u001b[0m \u001b[1;33m=\u001b[0m \u001b[0mmutual_info_classif\u001b[0m\u001b[1;33m(\u001b[0m\u001b[0mX_train_df\u001b[0m\u001b[1;33m)\u001b[0m\u001b[1;33m\u001b[0m\u001b[1;33m\u001b[0m\u001b[0m\n\u001b[0m\u001b[0;32m      4\u001b[0m \u001b[0mmutual_info\u001b[0m \u001b[1;33m=\u001b[0m \u001b[0mpd\u001b[0m\u001b[1;33m.\u001b[0m\u001b[0mSeries\u001b[0m\u001b[1;33m(\u001b[0m\u001b[0mmutual_info\u001b[0m\u001b[1;33m)\u001b[0m\u001b[1;33m\u001b[0m\u001b[1;33m\u001b[0m\u001b[0m\n\u001b[0;32m      5\u001b[0m \u001b[0mmutual_info\u001b[0m\u001b[1;33m.\u001b[0m\u001b[0mindex\u001b[0m \u001b[1;33m=\u001b[0m \u001b[0mfeatured_df\u001b[0m\u001b[1;33m.\u001b[0m\u001b[0mcolumns\u001b[0m\u001b[1;33m\u001b[0m\u001b[1;33m\u001b[0m\u001b[0m\n",
      "\u001b[1;31mTypeError\u001b[0m: mutual_info_classif() missing 1 required positional argument: 'y'"
     ]
    }
   ],
   "source": [
    "from sklearn.feature_selection import mutual_info_classif\n",
    "\n",
    "mutual_info = mutual_info_classif(X_train_df, y_train)\n",
    "mutual_info = pd.Series(mutual_info)\n",
    "mutual_info.index = featured_df.columns\n",
    "feature_rank = mutual_info.sort_values(ascending=False)\n",
    "feature_ig = feature_rank.head(10).values.tolist()\n",
    "select_feature_li = feature_rank.head(10).index.tolist()"
   ]
  },
  {
   "cell_type": "code",
   "execution_count": 39,
   "metadata": {},
   "outputs": [
    {
     "data": {
      "text/plain": [
       "[0.4086801666157014,\n",
       " 0.3767914334422602,\n",
       " 0.3761258386508455,\n",
       " 0.37396464324598466,\n",
       " 0.35254039327755815,\n",
       " 0.34586398984447175,\n",
       " 0.309822910302767,\n",
       " 0.2969924057931437,\n",
       " 0.2836874967447227,\n",
       " 0.27189939790102935]"
      ]
     },
     "execution_count": 39,
     "metadata": {},
     "output_type": "execute_result"
    }
   ],
   "source": [
    "feature_ig"
   ]
  },
  {
   "cell_type": "code",
   "execution_count": 40,
   "metadata": {},
   "outputs": [
    {
     "data": {
      "text/plain": [
       "<BarContainer object of 10 artists>"
      ]
     },
     "execution_count": 40,
     "metadata": {},
     "output_type": "execute_result"
    },
    {
     "data": {
      "image/png": "[encoded data removed]",
      "text/plain": [
       "<Figure size 432x288 with 1 Axes>"
      ]
     },
     "metadata": {
      "needs_background": "light"
     },
     "output_type": "display_data"
    }
   ],
   "source": [
    "import matplotlib.pyplot as plt\n",
    "\n",
    "plt.barh(select_feature_li, feature_ig)"
   ]
  },
  {
   "cell_type": "code",
   "execution_count": null,
   "metadata": {},
   "outputs": [],
   "source": []
  },
  {
   "cell_type": "code",
   "execution_count": 17,
   "metadata": {},
   "outputs": [],
   "source": [
    "X_train_df = X_train_df[select_feature_li]\n",
    "X_test_df = X_test_df[select_feature_li]"
   ]
  },
  {
   "cell_type": "code",
   "execution_count": 18,
   "metadata": {},
   "outputs": [
    {
     "name": "stderr",
     "output_type": "stream",
     "text": [
      "c:\\Users\\user\\AppData\\Local\\Programs\\Python\\Python37\\lib\\site-packages\\xgboost\\sklearn.py:1224: UserWarning: The use of label encoder in XGBClassifier is deprecated and will be removed in a future release. To remove this warning, do the following: 1) Pass option use_label_encoder=False when constructing XGBClassifier object; and 2) Encode your labels (y) as integers starting with 0, i.e. 0, 1, 2, ..., [num_class - 1].\n",
      "  warnings.warn(label_encoder_deprecation_msg, UserWarning)\n"
     ]
    },
    {
     "data": {
      "text/plain": [
       "XGBClassifier(base_score=0.5, booster='gbtree', colsample_bylevel=1,\n",
       "              colsample_bynode=1, colsample_bytree=1, enable_categorical=False,\n",
       "              eval_metric='merror', gamma=0, gpu_id=-1, importance_type=None,\n",
       "              interaction_constraints='', learning_rate=0.300000012,\n",
       "              max_delta_step=0, max_depth=3, min_child_weight=1, missing=nan,\n",
       "              monotone_constraints='()', n_estimators=100, n_jobs=20,\n",
       "              num_class=4, num_parallel_tree=1, objective='multi:softprob',\n",
       "              predictor='auto', random_state=0, reg_alpha=0, reg_lambda=1,\n",
       "              scale_pos_weight=None, subsample=1, tree_method='exact',\n",
       "              validate_parameters=1, ...)"
      ]
     },
     "execution_count": 18,
     "metadata": {},
     "output_type": "execute_result"
    }
   ],
   "source": [
    "# XGBoost Model\n",
    "import xgboost as xgb\n",
    "import pickle\n",
    "\n",
    "model = xgb.XGBClassifier(\n",
    "    booster='gbtree',\n",
    "    max_depth=3,\n",
    "    objective='multi:softmax',\n",
    "    num_class=4, eval_metric='merror'\n",
    ")\n",
    "model.fit(X_train_df,y_train)"
   ]
  },
  {
   "cell_type": "code",
   "execution_count": 19,
   "metadata": {},
   "outputs": [],
   "source": [
    "# AI Model Prediction\n",
    "ypred_xgb=model.predict(X_test_df)"
   ]
  },
  {
   "cell_type": "code",
   "execution_count": 20,
   "metadata": {},
   "outputs": [
    {
     "data": {
      "text/plain": [
       "array([1, 1, 1, ..., 1, 3, 1])"
      ]
     },
     "execution_count": 20,
     "metadata": {},
     "output_type": "execute_result"
    }
   ],
   "source": [
    "ypred_xgb"
   ]
  },
  {
   "cell_type": "code",
   "execution_count": 21,
   "metadata": {},
   "outputs": [
    {
     "name": "stdout",
     "output_type": "stream",
     "text": [
      "0.9639790364845797\n"
     ]
    }
   ],
   "source": [
    "\n",
    "# AI Model Accuracy\n",
    "print(accuracy_score(y_test, ypred_xgb))"
   ]
  },
  {
   "cell_type": "code",
   "execution_count": null,
   "metadata": {},
   "outputs": [],
   "source": [
    "from sklearn.metrics import confusion_matrix, accuracy_score, precision_score, recall_score\n",
    "from sklearn.metrics import confusion_matrix, f1_score, roc_auc_score\n",
    "\n",
    "def get_clf_eval(y_test, y_pred):\n",
    "    confusion = confusion_matrix(y_test, y_pred)\n",
    "    accuracy = accuracy_score(y_test, y_pred)\n",
    "    precision = precision_score(y_test, y_pred, average='macro')\n",
    "    recall = recall_score(y_test, y_pred, average='macro')\n",
    "    F1 = f1_score(y_test, y_pred, average='macro')\n",
    "    # AUC = roc_auc_score(y_test, y_pred, multi_class ='raise')\n",
    "    print('오차행렬:\\n', confusion)\n",
    "    print('\\n정확도: {:.4f}'.format(accuracy))\n",
    "    print('정밀도: {:.4f}'.format(precision))\n",
    "    print('재현율: {:.4f}'.format(recall))\n",
    "    print('F1: {:.4f}'.format(F1))\n",
    "    # print('AUC: {:.4f}'.format(AUC))"
   ]
  },
  {
   "cell_type": "code",
   "execution_count": null,
   "metadata": {},
   "outputs": [],
   "source": [
    "get_clf_eval(y_test, ypred_xgb)"
   ]
  },
  {
   "cell_type": "code",
   "execution_count": null,
   "metadata": {},
   "outputs": [],
   "source": [
    "from sklearn.tree import DecisionTreeClassifier\n",
    "\n",
    "dt_clf = DecisionTreeClassifier(max_depth=8)\n",
    "\n",
    "dt_clf = dt_clf.fit(X_train_df, y_train)\n",
    "dt_prediction = dt_clf.predict(X_test_df)"
   ]
  },
  {
   "cell_type": "code",
   "execution_count": null,
   "metadata": {},
   "outputs": [],
   "source": [
    "from sklearn.tree import _tree\n",
    "from sklearn import tree\n",
    "import pydotplus\n",
    "from IPython.display import Image\n",
    "\n",
    "target_name = np.array(['Normal', 'Defacement', 'Phishing', 'Malware', 'Spam'])"
   ]
  },
  {
   "cell_type": "code",
   "execution_count": null,
   "metadata": {},
   "outputs": [],
   "source": [
    "dt_dot_data = tree.export_graphviz(dt_clf, out_file = None,\n",
    "                                   max_depth=8,\n",
    "                                  feature_names = select_feature_li,\n",
    "                                  class_names = target_name,\n",
    "                                  filled = True, rounded = True, leaves_parallel= False,\n",
    "                                  special_characters = True, precision=5)\n",
    "\n",
    "\n",
    "dt_graph = pydotplus.graph_from_dot_data(dt_dot_data)\n",
    "\n",
    "Image(dt_graph.create_png())"
   ]
  },
  {
   "cell_type": "code",
   "execution_count": null,
   "metadata": {},
   "outputs": [],
   "source": [
    "def get_rules(tree, feature_names, class_names):\n",
    "    tree_ = tree.tree_\n",
    "    feature_name = [\n",
    "        feature_names[i] if i != _tree.TREE_UNDEFINED else \"undefined!\"\n",
    "        for i in tree_.feature\n",
    "    ]\n",
    "    root_value = tree_.value[0][0]\n",
    "    # print(tree_.impurity)\n",
    "    paths = []\n",
    "    path = []\n",
    "    total_cov = tree_.value[0][0][0]\n",
    "\n",
    "    def recurse(node, path, paths):\n",
    "        count = 0\n",
    "        if tree_.feature[node] != _tree.TREE_UNDEFINED:\n",
    "            name = feature_name[node]\n",
    "            threshold = tree_.threshold[node]\n",
    "            p1, p2 = list(path), list(path)\n",
    "            p1.append([f\"{name} <= {np.round(threshold, 4)}\", np.argmax(tree_.value[tree_.children_left[node]]), np.round(tree_.value[tree_.children_left[node]].max()/tree_.n_node_samples[tree_.children_left[node]], 4), np.round(tree_.value[tree_.children_left[node]].sum()/root_value.sum(), 4)]) \n",
    "            recurse(tree_.children_left[node], p1, paths)\n",
    "            p2.append([f\"{name} > {np.round(threshold, 4)}\", np.argmax(tree_.value[tree_.children_right[node]]), np.round(tree_.value[tree_.children_right[node]].max()/tree_.n_node_samples[tree_.children_right[node]], 4), np.round(tree_.value[tree_.children_right[node]].sum()/root_value.sum(), 4)]) \n",
    "            recurse(tree_.children_right[node], p2, paths)\n",
    "        else:\n",
    "            paths += [path]\n",
    "            \n",
    "    recurse(0, path, paths)\n",
    "#     return paths\n",
    "\n",
    "# pt = get_rules(dt_clf, select_feature_li, target_name)\n",
    "\n",
    "    # sort by samples count\n",
    "    samples_count = [p[-1][2] for p in paths]\n",
    "    ii = list(np.argsort(samples_count))\n",
    "\n",
    "    paths = [paths[i] for i in reversed(ii)]\n",
    "    \n",
    "    rules = []\n",
    "    # rules_df = pd.DataFrame(columns=col)\n",
    "    overlab_rules = []\n",
    "    for path in paths:\n",
    "        rule_len = 0\n",
    "        for i in range(len(path)):\n",
    "            stack_rule = []\n",
    "            for a in range(i):\n",
    "                stack_rule += [path[a][0]]\n",
    "            stack_rule += [path[i][0]]\n",
    "            rule_len = len(stack_rule)\n",
    "            rule = ' and '.join(stack_rule)\n",
    "            if rule not in overlab_rules:\n",
    "                overlab_rules.append(rule)\n",
    "                app_rule = [rule, path[i][1], path[i][2], path[i][3],rule_len]\n",
    "                rules.append(app_rule)\n",
    "        \n",
    "    return rules"
   ]
  },
  {
   "cell_type": "code",
   "execution_count": null,
   "metadata": {},
   "outputs": [],
   "source": [
    "col = ['Rule', 'Class', 'Acc', 'Cov', 'Rules Length']\n",
    "count = 0\n",
    "representative_rules = pd.DataFrame(columns=col)\n",
    "dt = get_rules(dt_clf, select_feature_li, target_name)\n",
    "\n",
    "rule_df = pd.DataFrame(dt, columns=col)\n",
    "\n",
    "rule_df['Class'].replace({0:'Normal', 1:'Defacement', 2:'Phishing', 3:'Malware', 4:'Spam'}, inplace= True)\n",
    "\n",
    "rule_df.to_csv('total_rule_set.csv', index=None)"
   ]
  },
  {
   "cell_type": "code",
   "execution_count": null,
   "metadata": {},
   "outputs": [],
   "source": [
    "###사용자 조건에 의한 필터링###\n",
    "\n",
    "Acc_condition = 0.8\n",
    "Cov_condition = 0.05\n",
    "Rule_Length = 9\n",
    "# rule_condition_total = rule_df\n",
    "rule_condition_total = rule_df[(rule_df['Acc'] > Acc_condition) & (rule_df['Cov'] > Cov_condition) & (rule_df['Rules Length'] < Rule_Length)]\n",
    "rule_condition_total=rule_condition_total.sort_values(by=['Rules Length'], ascending= False, axis=0)\n",
    "\n",
    "rule_condition_total.to_csv('condition_rule_set.csv', index=None)"
   ]
  },
  {
   "cell_type": "code",
   "execution_count": null,
   "metadata": {},
   "outputs": [],
   "source": [
    "###하위 노드 삭제###\n",
    "\n",
    "# rf = rule_condition_total\n",
    "# for r in rf['Rule']:\n",
    "    \n",
    "#     for index, rr in rf.iterrows():\n",
    "#         if (r in rr['Rule']) & (r!=rr['Rule']):\n",
    "#             # print(r)\n",
    "#             # print(rr['Rule'])\n",
    "#             # print('r :', r)\n",
    "#             # print('rr :',rr['Rule'])\n",
    "#             rf.drop(index, inplace=True)"
   ]
  },
  {
   "cell_type": "code",
   "execution_count": null,
   "metadata": {},
   "outputs": [],
   "source": [
    "# rf.to_csv('representative_rule_set.csv', index=None)"
   ]
  },
  {
   "cell_type": "code",
   "execution_count": null,
   "metadata": {},
   "outputs": [],
   "source": []
  }
 ],
 "metadata": {
  "kernelspec": {
   "display_name": "Python 3.7.9 64-bit",
   "language": "python",
   "name": "python3"
  },
  "language_info": {
   "codemirror_mode": {
    "name": "ipython",
    "version": 3
   },
   "file_extension": ".py",
   "mimetype": "text/x-python",
   "name": "python",
   "nbconvert_exporter": "python",
   "pygments_lexer": "ipython3",
   "version": "3.7.9"
  },
  "orig_nbformat": 4,
  "vscode": {
   "interpreter": {
    "hash": "8c2dc7f55a4afb133f9671f18548a683b80d7f864af89313bd9839ac682f147f"
   }
  }
 },
 "nbformat": 4,
 "nbformat_minor": 2
}
